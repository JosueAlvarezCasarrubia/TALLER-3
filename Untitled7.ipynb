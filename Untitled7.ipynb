{
  "nbformat": 4,
  "nbformat_minor": 0,
  "metadata": {
    "colab": {
      "provenance": [],
      "authorship_tag": "ABX9TyOZQWq11gMM5M/+f0oL1elp",
      "include_colab_link": true
    },
    "kernelspec": {
      "name": "python3",
      "display_name": "Python 3"
    },
    "language_info": {
      "name": "python"
    }
  },
  "cells": [
    {
      "cell_type": "markdown",
      "metadata": {
        "id": "view-in-github",
        "colab_type": "text"
      },
      "source": [
        "<a href=\"https://colab.research.google.com/github/JosueAlvarezCasarrubia/TALLER-3/blob/main/Untitled7.ipynb\" target=\"_parent\"><img src=\"https://colab.research.google.com/assets/colab-badge.svg\" alt=\"Open In Colab\"/></a>"
      ]
    },
    {
      "cell_type": "markdown",
      "source": [
        "\n",
        "#**TALLER #3👍**\n",
        "##**FUNDAMENTOS DE PROGRAMACION Y ALGORITMIA.**\n",
        "\n",
        "INTEGRANTE 1: JOSUE ALVAREZ CASARRUBIA  000537524\n",
        "\n",
        "\n",
        "INTEGRANTE 2: JUAN PABLO WILTON CHAVEZ  000524242\n"
      ],
      "metadata": {
        "id": "6Q0kY0XQEbjl"
      }
    },
    {
      "cell_type": "markdown",
      "source": [
        "#**EJERCICIO**\n",
        "#### Problema #2: Cálculo de la Tarifa de un Taxi\n",
        "Descripción del problema:\n",
        "\n",
        "La tarifa de un taxi se calcula en función de varios factores, incluyendo la distancia recorrida, el tiempo detenido, y un recargo nocturno. La tarifa por kilómetro varía dependiendo de la distancia total recorrida:\n",
        "\n",
        "\n",
        "**• Tarifa Base: $6,000 COP.**\n",
        "\n",
        "**• Tarifa por Kilómetro:**\n",
        "\n",
        "      o Hasta 5 kilómetros: $1,500 COP por kilómetro.\n",
        "      o Más de 5 kilómetros y hasta 15 kilómetros: $1,200 COP por kilómetro.\n",
        "      o Más de 15 kilómetros: $1,000 COP por kilómetro.\n",
        "\n",
        "\n",
        "**• Tarifa por Tiempo de Detención:** $400 COP por minuto.\n",
        "\n",
        "**• Recargo Nocturno:** 20% sobre el total si el viaje ocurre entre las 22:00 y las 6:00.\n",
        "\n",
        "\n",
        "**Entradas del problema:**\n",
        "\n",
        "\n",
        "    • distancia: distancia recorrida en kilómetros (flotante).\n",
        "    • tiempo_detencion: tiempo detenido en minutos (entero).\n",
        "    • hora_inicio: hora de inicio del viaje en formato 24 horas (entero).\n",
        "\n",
        "**Salidas esperadas:**\n",
        "\n",
        "    • Total a pagar por el viaje en taxi (en pesos colombianos, COP)"
      ],
      "metadata": {
        "id": "eK6TSJKnFCCr"
      }
    },
    {
      "cell_type": "markdown",
      "source": [
        "#**ALGORITMO para Cálcular la Tarifa de un viaje en Taxi**\n",
        "\n",
        "1- iniciar\n",
        "\n",
        "2- pedir al usuario la distancia recorrida en kilometros, el tiempo detenido en minutos y hora de inicio del viaje en formato 24 horas\n",
        "\n",
        "3- calcular la tarifa\n",
        "\n",
        "tarifa por kilometro:\n",
        "\n",
        "            o si el recorrido es hasta 5 kilómetros: $1,500 COP por kilómetro.\n",
        "\n",
        "            o si el recorrido es más de 5 kilómetros y hasta 15 kilómetros: $1,200 COP por kilómetro.\n",
        "\n",
        "            o si el recorrido es más de 15 kilómetros: $1,000 COP por kilómetro.\n",
        "\n",
        "Tarifa por Tiempo de Detención:\n",
        "\n",
        "            o $400 COP por minuto.\n",
        "\n",
        "            \n",
        "4- Sumar la tarifa base ($6,000 COP), la tarifa por distancia y la tarifa por tiempo detenido.\n",
        "\n",
        "5-si el viaje ocurre entre las 22:00 y las 6:00.aplicar:\n",
        "\n",
        "            • Recargo Nocturno: 20% sobre el total\n",
        "\n",
        "            \n",
        "\n",
        "6- mostrar el total a pagar por el viaje en taxi (en pesos colombianos, COP)\n",
        "\n",
        "7- finalizar\n",
        "\n",
        "\n"
      ],
      "metadata": {
        "id": "zWqC8s-YFQ8l"
      }
    },
    {
      "cell_type": "markdown",
      "source": [
        "#**PSEUDOCODIGO**\n",
        "program Cálcular_la_tarifa_de_un_viaje_ en_taxi\n",
        "\n",
        "start\n",
        "\n",
        "//DECLARACION DE VARIABLES\n",
        "\n",
        "Declare float distancia\n",
        "\n",
        "Declare integer tiempo_detencion\n",
        "\n",
        "Declare integer hora_inicio\n",
        "\n",
        "\n",
        "\n",
        "// OBTENCION DE DATOS\n",
        "\n",
        "Display \"ingrese la distancia en kilometros\"\n",
        "\n",
        "input distancia\n",
        "\n",
        "Display \"ingrese el tiempo de detencion en minutos\"\n",
        "\n",
        "input tiempo_detencion\n",
        "\n",
        "Display \"ingrese la hira de inicio en formato de 24 horas (0-24)\"\n",
        "\n",
        "input hora_inicio\n",
        "\n",
        "\n",
        "\n",
        "\n",
        "//calcular el costo del viaje\n",
        "\n",
        "if distancia > 0 and distancia <=5 then\n",
        "        set total_1 = distancia * 1,500\n",
        "        set total_2 = distancia * 0\n",
        "        set total_3 = distancia * 0\n",
        "\n",
        "else if distancia <=15 then\n",
        "        set total_1 = 5 * 1,500\n",
        "        set total_2 = (distancia - 5) * 1200\n",
        "        set total_3 = distancia * 0\n",
        "\n",
        "else\n",
        "        set total_1 = 5 * 1,500\n",
        "        set total_2 = 10 * 1200\n",
        "        set total_3 = (distancia - 15) * 1000\n",
        "end if\n",
        "\n",
        "\n",
        "// CALCULAR EL COSTO POR TIEMPO DE DETENCIÓN\n",
        "set precio_detencion = tiempo_detencion * 400\n",
        "\n",
        "// CALCULAR EL TOTAL PRELIMINAR\n",
        "set total = 6000 + total_1 + total_2 + total_3 + precio_detencion\n",
        "\n",
        "// RECARGO NOCTURNO\n",
        "if hora_inicio >= 22 and hora_inicio < 6 then\n",
        "    \n",
        "// CALCULAR EL COSTO POR TIEMPO DE DETENCIÓN\n",
        "set precio_detencion = tiempo_detencion * 400\n",
        "\n",
        "// CALCULAR EL TOTAL PRELIMINAR\n",
        "set total = tarifa_base + total_1 + total_2 + total_3 + precio_detencion\n",
        "\n",
        "\n",
        "// VERIFICAR SI HAY RECARGO NOCTURNO\n",
        "if hora_inicio >= 22 or hora_inicio < 6 then\n",
        "       set recargo = total * 0.20\n",
        "       set total = total + recargo\n",
        "\n",
        "\n",
        "// MOSTRAR EL TOTAL A PAGAR\n",
        "Display \"El total a pagar es: \", total\n",
        "\n",
        "end\n"
      ],
      "metadata": {
        "id": "9iPbajt_FVUh"
      }
    },
    {
      "cell_type": "markdown",
      "source": [],
      "metadata": {
        "id": "qDR62D48Wza_"
      }
    },
    {
      "cell_type": "markdown",
      "source": [
        "#**CODOGO EN PYTHON**"
      ],
      "metadata": {
        "id": "OIMX0Aa6FY9D"
      }
    },
    {
      "cell_type": "code",
      "source": [
        "\n",
        "# Declaramos las variables de entrada\n",
        "distancia = float(input(\"Ingrese la distancia en kilómetros: \"))\n",
        "tiempo_detencion = int(input(\"Ingrese el tiempo de detención en minutos: \"))\n",
        "hora_inicio = int(input(\"Ingrese la hora de inicio en formato de 24 horas (0-24): \"))\n",
        "\n",
        "# CALCULO DEL COSTO DEL VIAJE\n",
        "\n",
        "if 0 < distancia <= 5:\n",
        "    total_1 = distancia * 1500\n",
        "    total_2 = 0\n",
        "    total_3 = 0\n",
        "elif distancia <= 15:\n",
        "    total_1 = 5 * 1500\n",
        "    total_2 = (distancia - 5) * 1200\n",
        "    total_3 = 0\n",
        "else:\n",
        "    total_1 = 5 * 1500\n",
        "    total_2 = 10 * 1200\n",
        "    total_3 = (distancia - 15) * 1000\n",
        "\n",
        "# CALCULAR EL COSTO POR TIEMPO DE DETENCIÓN\n",
        "precio_detencion = tiempo_detencion * 400\n",
        "\n",
        "# CALCULAR EL TOTAL PRELIMINAR\n",
        "total = 6000 + total_1 + total_2 + total_3 + precio_detencion\n",
        "\n",
        "# RECARGO NOCTURNO\n",
        "if hora_inicio >= 22 or hora_inicio < 6:\n",
        "    recargo = total * 0.20\n",
        "    total += recargo\n",
        "\n",
        "# MOSTRAR EL TOTAL A PAGAR\n",
        "print(f\"El total a pagar es: {total:.2f} pesos\")\n"
      ],
      "metadata": {
        "id": "w1RxlarfFp3f"
      },
      "execution_count": null,
      "outputs": []
    }
  ]
}